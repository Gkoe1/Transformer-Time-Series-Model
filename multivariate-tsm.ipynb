{
  "cells": [
    {
      "cell_type": "markdown",
      "metadata": {
        "id": "5hTa62wGhRzK"
      },
      "source": [
        "# **Multivariate Time Series Transformer**\n",
        "\n",
        "![image.png](attachment:c10fbf29-6619-4254-88ca-134b7a0c39f2.png)\n",
        "\n"
      ]
    },
    {
      "cell_type": "code",
      "execution_count": 2,
      "metadata": {
        "execution": {
          "iopub.execute_input": "2024-10-26T14:12:51.118681Z",
          "iopub.status.busy": "2024-10-26T14:12:51.118404Z",
          "iopub.status.idle": "2024-10-26T14:13:22.776783Z",
          "shell.execute_reply": "2024-10-26T14:13:22.775667Z",
          "shell.execute_reply.started": "2024-10-26T14:12:51.118650Z"
        },
        "trusted": true,
        "id": "9Tl0DarehRzP",
        "outputId": "0d5a0366-ef67-4515-c89c-07ca68469c23",
        "colab": {
          "base_uri": "https://localhost:8080/"
        }
      },
      "outputs": [
        {
          "output_type": "stream",
          "name": "stdout",
          "text": [
            "  Installing build dependencies ... \u001b[?25l\u001b[?25hdone\n",
            "  Getting requirements to build wheel ... \u001b[?25l\u001b[?25hdone\n",
            "  Preparing metadata (pyproject.toml) ... \u001b[?25l\u001b[?25hdone\n"
          ]
        }
      ],
      "source": [
        "pip install --quiet git+https://github.com/IBM/tsfm.git"
      ]
    },
    {
      "cell_type": "code",
      "execution_count": null,
      "metadata": {
        "execution": {
          "iopub.execute_input": "2024-10-26T14:13:22.779001Z",
          "iopub.status.busy": "2024-10-26T14:13:22.778685Z",
          "iopub.status.idle": "2024-10-26T14:13:34.107604Z",
          "shell.execute_reply": "2024-10-26T14:13:34.106453Z",
          "shell.execute_reply.started": "2024-10-26T14:13:22.778966Z"
        },
        "trusted": true,
        "id": "YJa8zZLBhRzR",
        "outputId": "99121e04-0c40-4a3e-ee7f-09bf88a72bd9"
      },
      "outputs": [
        {
          "name": "stdout",
          "output_type": "stream",
          "text": [
            "Note: you may need to restart the kernel to use updated packages.\n"
          ]
        }
      ],
      "source": [
        "pip install --quiet transformers"
      ]
    },
    {
      "cell_type": "code",
      "execution_count": null,
      "metadata": {
        "execution": {
          "iopub.execute_input": "2024-10-26T14:13:34.109235Z",
          "iopub.status.busy": "2024-10-26T14:13:34.108894Z",
          "iopub.status.idle": "2024-10-26T14:13:53.124140Z",
          "shell.execute_reply": "2024-10-26T14:13:53.123228Z",
          "shell.execute_reply.started": "2024-10-26T14:13:34.109194Z"
        },
        "trusted": true,
        "id": "EBPK0OFnhRzS"
      },
      "outputs": [],
      "source": [
        "from transformers import PatchTSTConfig\n",
        "from tsfm_public.toolkit.dataset import ForecastDFDataset"
      ]
    },
    {
      "cell_type": "markdown",
      "metadata": {
        "id": "inyghyuchRzT"
      },
      "source": [
        "## Import packages"
      ]
    },
    {
      "cell_type": "code",
      "execution_count": null,
      "metadata": {
        "execution": {
          "iopub.execute_input": "2024-10-26T14:13:53.127597Z",
          "iopub.status.busy": "2024-10-26T14:13:53.126831Z",
          "iopub.status.idle": "2024-10-26T14:13:54.222584Z",
          "shell.execute_reply": "2024-10-26T14:13:54.221804Z",
          "shell.execute_reply.started": "2024-10-26T14:13:53.127550Z"
        },
        "trusted": true,
        "id": "ST5fwsx8hRzU"
      },
      "outputs": [],
      "source": [
        "# Standard\n",
        "\n",
        "import os\n",
        "\n",
        "\n",
        "\n",
        "# Third Party\n",
        "\n",
        "from transformers import (\n",
        "\n",
        "    EarlyStoppingCallback,\n",
        "\n",
        "    PatchTSTConfig,\n",
        "\n",
        "    PatchTSTForPrediction,\n",
        "\n",
        "    set_seed,\n",
        "\n",
        "    Trainer,\n",
        "\n",
        "    TrainingArguments,\n",
        "\n",
        ")\n",
        "\n",
        "import numpy as np\n",
        "\n",
        "import pandas as pd\n",
        "\n",
        "\n",
        "\n",
        "# First Party\n",
        "\n",
        "from tsfm_public.toolkit.dataset import ForecastDFDataset\n",
        "\n",
        "from tsfm_public.toolkit.time_series_preprocessor import TimeSeriesPreprocessor\n",
        "\n",
        "from tsfm_public.toolkit.util import select_by_index\n",
        "\n",
        "\n",
        "\n",
        "# supress some warnings\n",
        "\n",
        "import warnings\n",
        "\n",
        "\n",
        "\n",
        "#warnings.filterwarnings(\"ignore\", module=\"torch\")"
      ]
    },
    {
      "cell_type": "markdown",
      "metadata": {
        "id": "Lz6YmDbMhRzV"
      },
      "source": [
        " ### Set seed"
      ]
    },
    {
      "cell_type": "code",
      "execution_count": null,
      "metadata": {
        "execution": {
          "iopub.execute_input": "2024-10-26T14:13:54.223918Z",
          "iopub.status.busy": "2024-10-26T14:13:54.223642Z",
          "iopub.status.idle": "2024-10-26T14:13:54.236501Z",
          "shell.execute_reply": "2024-10-26T14:13:54.235693Z",
          "shell.execute_reply.started": "2024-10-26T14:13:54.223888Z"
        },
        "trusted": true,
        "id": "hkihn2XdhRzW"
      },
      "outputs": [],
      "source": [
        "set_seed(2023)"
      ]
    },
    {
      "cell_type": "markdown",
      "metadata": {
        "id": "uU87kgunhRzX"
      },
      "source": [
        "## Load data"
      ]
    },
    {
      "cell_type": "code",
      "execution_count": null,
      "metadata": {
        "execution": {
          "iopub.execute_input": "2024-10-26T14:13:54.238059Z",
          "iopub.status.busy": "2024-10-26T14:13:54.237684Z",
          "iopub.status.idle": "2024-10-26T14:13:54.244978Z",
          "shell.execute_reply": "2024-10-26T14:13:54.244240Z",
          "shell.execute_reply.started": "2024-10-26T14:13:54.237998Z"
        },
        "trusted": true,
        "id": "9qiKtpPJhRzX"
      },
      "outputs": [],
      "source": [
        "# Parameters\n",
        "\n",
        "dataset_path = \"/kaggle/input/stock-market/NVDA_ticker.csv\"\n",
        "\n",
        "timestamp_column = 'Date'\n",
        "\n",
        "id_columns = []\n",
        "\n",
        "\n",
        "\n",
        "context_length = 512\n",
        "\n",
        "forecast_horizon = 30\n",
        "\n",
        "patch_length = 16\n",
        "\n",
        "num_workers = 16  # Reduce this if you have low number of CPU cores\n",
        "\n",
        "batch_size = 64  # Adjust according to GPU memory"
      ]
    },
    {
      "cell_type": "code",
      "execution_count": null,
      "metadata": {
        "execution": {
          "iopub.execute_input": "2024-10-26T14:13:54.246315Z",
          "iopub.status.busy": "2024-10-26T14:13:54.245992Z",
          "iopub.status.idle": "2024-10-26T14:13:54.274998Z",
          "shell.execute_reply": "2024-10-26T14:13:54.274353Z",
          "shell.execute_reply.started": "2024-10-26T14:13:54.246285Z"
        },
        "trusted": true,
        "id": "yOsPgegGhRzY"
      },
      "outputs": [],
      "source": [
        "data = pd.read_csv(\n",
        "\n",
        "    dataset_path,\n",
        "\n",
        "    parse_dates=['Date'],\n",
        "\n",
        ")\n",
        "\n",
        "forecast_columns = list(data.columns[1:])\n"
      ]
    },
    {
      "cell_type": "code",
      "execution_count": null,
      "metadata": {
        "execution": {
          "iopub.execute_input": "2024-10-26T14:13:54.276186Z",
          "iopub.status.busy": "2024-10-26T14:13:54.275914Z",
          "iopub.status.idle": "2024-10-26T14:13:54.283142Z",
          "shell.execute_reply": "2024-10-26T14:13:54.282227Z",
          "shell.execute_reply.started": "2024-10-26T14:13:54.276157Z"
        },
        "trusted": true,
        "id": "kuWe4j7VhRzZ",
        "outputId": "8c411268-34a8-4d69-b9c9-f5b9326d0ad4"
      },
      "outputs": [
        {
          "data": {
            "text/plain": [
              "['Close', 'High', 'Low', 'Volume']"
            ]
          },
          "execution_count": 8,
          "metadata": {},
          "output_type": "execute_result"
        }
      ],
      "source": [
        "forecast_columns"
      ]
    },
    {
      "cell_type": "markdown",
      "metadata": {
        "id": "QwYGHZE5hRzZ"
      },
      "source": [
        "## Split data"
      ]
    },
    {
      "cell_type": "code",
      "execution_count": null,
      "metadata": {
        "execution": {
          "iopub.execute_input": "2024-10-26T14:13:54.284516Z",
          "iopub.status.busy": "2024-10-26T14:13:54.284220Z",
          "iopub.status.idle": "2024-10-26T14:13:54.314923Z",
          "shell.execute_reply": "2024-10-26T14:13:54.314106Z",
          "shell.execute_reply.started": "2024-10-26T14:13:54.284470Z"
        },
        "trusted": true,
        "id": "R121BBelhRza"
      },
      "outputs": [],
      "source": [
        "# Preprocess the data\n",
        "\n",
        "num_train = int(len(data) * 0.7)\n",
        "\n",
        "num_test = int(len(data) * 0.2)\n",
        "\n",
        "num_valid = len(data) - num_train - num_test\n",
        "\n",
        "border1s = [\n",
        "\n",
        "    0,\n",
        "\n",
        "    num_train - context_length,\n",
        "\n",
        "    len(data) - num_test - context_length,\n",
        "\n",
        "]\n",
        "\n",
        "border2s = [num_train, num_train + num_valid, len(data)]\n",
        "\n",
        "\n",
        "\n",
        "train_start_index = border1s[0]  # None indicates beginning of dataset\n",
        "\n",
        "train_end_index = border2s[0]\n",
        "\n",
        "\n",
        "\n",
        "# we shift the start of the evaluation period back by context length so that\n",
        "\n",
        "# the first evaluation timestamp is immediately following the training data\n",
        "\n",
        "valid_start_index = border1s[1]\n",
        "\n",
        "valid_end_index = border2s[1]\n",
        "\n",
        "\n",
        "\n",
        "test_start_index = border1s[2]\n",
        "\n",
        "test_end_index = border2s[2]\n",
        "\n",
        "\n",
        "\n",
        "train_data = select_by_index(\n",
        "\n",
        "    data,\n",
        "\n",
        "    id_columns=id_columns,\n",
        "\n",
        "    start_index=train_start_index,\n",
        "\n",
        "    end_index=train_end_index,\n",
        "\n",
        ")\n",
        "\n",
        "valid_data = select_by_index(\n",
        "\n",
        "    data,\n",
        "\n",
        "    id_columns=id_columns,\n",
        "\n",
        "    start_index=valid_start_index,\n",
        "\n",
        "    end_index=valid_end_index,\n",
        "\n",
        ")\n",
        "\n",
        "test_data = select_by_index(\n",
        "\n",
        "    data,\n",
        "\n",
        "    id_columns=id_columns,\n",
        "\n",
        "    start_index=test_start_index,\n",
        "\n",
        "    end_index=test_end_index,\n",
        "\n",
        ")\n",
        "\n",
        "\n",
        "\n",
        "time_series_preprocessor = TimeSeriesPreprocessor(\n",
        "\n",
        "    timestamp_column=timestamp_column,\n",
        "\n",
        "    id_columns=id_columns,\n",
        "\n",
        "    input_columns=forecast_columns,\n",
        "\n",
        "    output_columns=forecast_columns,\n",
        "\n",
        "    scaling=True,\n",
        "\n",
        ")\n",
        "\n",
        "time_series_preprocessor = time_series_preprocessor.train(train_data)"
      ]
    },
    {
      "cell_type": "code",
      "execution_count": null,
      "metadata": {
        "execution": {
          "iopub.execute_input": "2024-10-26T14:13:54.318931Z",
          "iopub.status.busy": "2024-10-26T14:13:54.318637Z",
          "iopub.status.idle": "2024-10-26T14:13:54.328739Z",
          "shell.execute_reply": "2024-10-26T14:13:54.327722Z",
          "shell.execute_reply.started": "2024-10-26T14:13:54.318900Z"
        },
        "trusted": true,
        "id": "R389_hSohRzb",
        "outputId": "817ee337-6895-495a-c3a6-afa8048937a2"
      },
      "outputs": [
        {
          "name": "stdout",
          "output_type": "stream",
          "text": [
            "Train indices: 0 to 492 (exclusive)\n",
            "Validation indices: 492 to 632 (exclusive)\n",
            "Test indices: 632 to 704 (exclusive)\n"
          ]
        }
      ],
      "source": [
        "# Number of total samples\n",
        "total_samples = len(data)\n",
        "\n",
        "# Calculate indices for train, valid, and test splits\n",
        "num_train = int(total_samples * 0.7)  # 70%\n",
        "num_valid = int(total_samples * 0.2)  # 20%\n",
        "num_test = total_samples - num_train - num_valid  # Remaining samples\n",
        "\n",
        "# Calculate index borders\n",
        "border1s = [\n",
        "    0,\n",
        "    num_train,  # Start of validation right after training ends\n",
        "    num_train + num_valid  # Start of testing right after validation ends\n",
        "]\n",
        "\n",
        "border2s = [num_train, num_train + num_valid, total_samples]  # End indices\n",
        "\n",
        "train_start_index = border1s[0]\n",
        "train_end_index = border2s[0]\n",
        "\n",
        "valid_start_index = border1s[1]\n",
        "valid_end_index = border2s[1]\n",
        "\n",
        "test_start_index = border1s[2]\n",
        "test_end_index = border2s[2]\n",
        "\n",
        "# Debugging: Print the calculated indices\n",
        "print(f\"Train indices: {train_start_index} to {train_end_index} (exclusive)\")\n",
        "print(f\"Validation indices: {valid_start_index} to {valid_end_index} (exclusive)\")\n",
        "print(f\"Test indices: {test_start_index} to {test_end_index} (exclusive)\")\n",
        "\n",
        "# Select the datasets\n",
        "train_data = select_by_index(data, id_columns=id_columns, start_index=train_start_index, end_index=train_end_index)\n",
        "valid_data = select_by_index(data, id_columns=id_columns, start_index=valid_start_index, end_index=valid_end_index)\n",
        "test_data = select_by_index(data, id_columns=id_columns, start_index=test_start_index, end_index=test_end_index)\n",
        "\n"
      ]
    },
    {
      "cell_type": "code",
      "execution_count": null,
      "metadata": {
        "execution": {
          "iopub.execute_input": "2024-10-26T14:13:54.330208Z",
          "iopub.status.busy": "2024-10-26T14:13:54.329795Z",
          "iopub.status.idle": "2024-10-26T14:13:54.343682Z",
          "shell.execute_reply": "2024-10-26T14:13:54.342884Z",
          "shell.execute_reply.started": "2024-10-26T14:13:54.330176Z"
        },
        "trusted": true,
        "id": "dngjjuOOhRzb",
        "outputId": "714cea6d-8df2-4c45-e357-159bea782efa"
      },
      "outputs": [
        {
          "name": "stdout",
          "output_type": "stream",
          "text": [
            "Training data shape: (492, 5)\n",
            "Validation data shape: (140, 5)\n",
            "Testing data shape: (72, 5)\n"
          ]
        }
      ],
      "source": [
        "# Check the shape of each dataset\n",
        "print(f\"Training data shape: {train_data.shape}\")\n",
        "print(f\"Validation data shape: {valid_data.shape}\")\n",
        "print(f\"Testing data shape: {test_data.shape}\")"
      ]
    },
    {
      "cell_type": "markdown",
      "metadata": {
        "id": "_8RdJzNEhRzc"
      },
      "source": [
        "## Preprocess the data"
      ]
    },
    {
      "cell_type": "code",
      "execution_count": null,
      "metadata": {
        "execution": {
          "iopub.execute_input": "2024-10-26T14:13:54.344902Z",
          "iopub.status.busy": "2024-10-26T14:13:54.344639Z",
          "iopub.status.idle": "2024-10-26T14:13:54.370713Z",
          "shell.execute_reply": "2024-10-26T14:13:54.370053Z",
          "shell.execute_reply.started": "2024-10-26T14:13:54.344873Z"
        },
        "trusted": true,
        "id": "cIOoZTt9hRzc"
      },
      "outputs": [],
      "source": [
        "# Preprocess the data\n",
        "train_data = time_series_preprocessor.preprocess(train_data)\n",
        "valid_data = time_series_preprocessor.preprocess(valid_data)\n",
        "test_data = time_series_preprocessor.preprocess(test_data)"
      ]
    },
    {
      "cell_type": "code",
      "execution_count": null,
      "metadata": {
        "execution": {
          "iopub.execute_input": "2024-10-26T14:13:54.371876Z",
          "iopub.status.busy": "2024-10-26T14:13:54.371635Z",
          "iopub.status.idle": "2024-10-26T14:13:54.412560Z",
          "shell.execute_reply": "2024-10-26T14:13:54.411854Z",
          "shell.execute_reply.started": "2024-10-26T14:13:54.371849Z"
        },
        "trusted": true,
        "id": "b2yA6z-3hRzc"
      },
      "outputs": [],
      "source": [
        "# Create ForecastDFDataset for training, validation, and test\n",
        "train_dataset = ForecastDFDataset(\n",
        "    data=train_data,\n",
        "    id_columns=id_columns,\n",
        "    timestamp_column=timestamp_column,\n",
        "    target_columns=forecast_columns,  # Specify the target columns\n",
        "    observable_columns=[],  # Specify any observable columns if needed\n",
        "    control_columns=[],  # Specify any control columns if needed\n",
        "    conditional_columns=[],  # Specify any conditional columns if needed\n",
        "    static_categorical_columns=[],  # Specify static categorical columns if needed\n",
        "    context_length=context_length,\n",
        "    prediction_length=forecast_horizon,\n",
        "    num_workers=num_workers,\n",
        ")\n",
        "\n",
        "valid_dataset = ForecastDFDataset(\n",
        "    data=valid_data,\n",
        "    id_columns=id_columns,\n",
        "    timestamp_column=timestamp_column,\n",
        "    target_columns=forecast_columns,\n",
        "    observable_columns=[],\n",
        "    control_columns=[],\n",
        "    conditional_columns=[],\n",
        "    static_categorical_columns=[],\n",
        "    context_length=context_length,\n",
        "    prediction_length=forecast_horizon,\n",
        "    num_workers=num_workers,\n",
        ")\n",
        "\n",
        "test_dataset = ForecastDFDataset(\n",
        "    data=test_data,\n",
        "    id_columns=id_columns,\n",
        "    timestamp_column=timestamp_column,\n",
        "    target_columns=forecast_columns,\n",
        "    observable_columns=[],\n",
        "    control_columns=[],\n",
        "    conditional_columns=[],\n",
        "    static_categorical_columns=[],\n",
        "    context_length=context_length,\n",
        "    prediction_length=forecast_horizon,\n",
        "    num_workers=num_workers,\n",
        ")"
      ]
    },
    {
      "cell_type": "markdown",
      "metadata": {
        "id": "V0d00HAMhRzd"
      },
      "source": [
        "## Setting up the parameters\n",
        "\n",
        "The settings below control the different hyperparameters related to the architecture.\n",
        "\n",
        "  - `num_input_channels`: the number of input channels (or dimensions) in the time series data. This is\n",
        "\n",
        "    automatically set to the number for forecast columns.\n",
        "\n",
        "  - `context_length`: As described above, the amount of historical data used as input to the model.\n",
        "\n",
        "  - `patch_length`: The length of the patches extracted from the context window (of length `context_length`).\n",
        "\n",
        "  - `patch_stride`: The stride used when extracting patches from the context window.\n",
        "\n",
        "  - `random_mask_ratio`: The fraction of input patches that are completely masked for pretraining the model.\n",
        "\n",
        "  - `d_model`: Dimension of the transformer layers.\n",
        "\n",
        "  - `num_attention_heads`: The number of attention heads for each attention layer in the Transformer encoder.\n",
        "\n",
        "  - `num_hidden_layers`: The number of encoder layers.\n",
        "\n",
        "  - `ffn_dim`: Dimension of the intermediate (often referred to as feed-forward) layer in the encoder.\n",
        "\n",
        "  - `dropout`: Dropout probability for all fully connected layers in the encoder.\n",
        "\n",
        "  - `head_dropout`: Dropout probability used in the head of the model.\n",
        "\n",
        "  - `pooling_type`: Pooling of the embedding. `\"mean\"`, `\"max\"` and `None` are supported.\n",
        "\n",
        "  - `channel_attention`: Activate the channel attention block in the Transformer to allow channels to attend to each other.\n",
        "\n",
        "  - `scaling`: Whether to scale the input targets via \"mean\" scaler, \"std\" scaler, or no scaler if `None`. If `True`, the\n",
        "\n",
        "    scaler is set to `\"mean\"`.\n",
        "\n",
        "  - `loss`: The loss function for the model corresponding to the `distribution_output` head. For parametric\n",
        "\n",
        "    distributions it is the negative log-likelihood (`\"nll\"`) and for point estimates it is the mean squared\n",
        "\n",
        "    error `\"mse\"`.\n",
        "\n",
        "  - `pre_norm`: Normalization is applied before self-attention if pre_norm is set to `True`. Otherwise, normalization is\n",
        "\n",
        "    applied after residual block.\n",
        "\n",
        "  - `norm_type`: Normalization at each Transformer layer. Can be `\"BatchNorm\"` or `\"LayerNorm\"`.\n",
        "\n",
        "\n",
        "\n",
        "For full details on the parameters, we refer to the [documentation](https://huggingface.co/docs/transformers/main/en/model_doc/patchtst#transformers.PatchTSTConfig).\n"
      ]
    },
    {
      "cell_type": "code",
      "execution_count": null,
      "metadata": {
        "execution": {
          "iopub.execute_input": "2024-10-26T14:13:54.414148Z",
          "iopub.status.busy": "2024-10-26T14:13:54.413778Z",
          "iopub.status.idle": "2024-10-26T14:13:54.549303Z",
          "shell.execute_reply": "2024-10-26T14:13:54.548552Z",
          "shell.execute_reply.started": "2024-10-26T14:13:54.414109Z"
        },
        "trusted": true,
        "id": "rilJmlKPhRze"
      },
      "outputs": [],
      "source": [
        "config = PatchTSTConfig(\n",
        "\n",
        "    num_input_channels=len(forecast_columns),\n",
        "\n",
        "    context_length=context_length,\n",
        "\n",
        "    patch_length=patch_length,\n",
        "\n",
        "    patch_stride=patch_length,\n",
        "\n",
        "    prediction_length=forecast_horizon,\n",
        "\n",
        "    random_mask_ratio=0.4,\n",
        "\n",
        "    d_model=128,\n",
        "\n",
        "    num_attention_heads=16,\n",
        "\n",
        "    num_hidden_layers=3,\n",
        "\n",
        "    ffn_dim=256,\n",
        "\n",
        "    dropout=0.2,\n",
        "\n",
        "    head_dropout=0.2,\n",
        "\n",
        "    pooling_type=None,\n",
        "\n",
        "    channel_attention=False,\n",
        "\n",
        "    scaling=\"std\",\n",
        "\n",
        "    loss=\"mse\",\n",
        "\n",
        "    pre_norm=True,\n",
        "\n",
        "    norm_type=\"batchnorm\",\n",
        "\n",
        ")\n",
        "\n",
        "model = PatchTSTForPrediction(config)"
      ]
    },
    {
      "cell_type": "code",
      "execution_count": null,
      "metadata": {
        "execution": {
          "iopub.execute_input": "2024-10-26T14:13:54.550884Z",
          "iopub.status.busy": "2024-10-26T14:13:54.550524Z",
          "iopub.status.idle": "2024-10-26T14:13:54.587613Z",
          "shell.execute_reply": "2024-10-26T14:13:54.586723Z",
          "shell.execute_reply.started": "2024-10-26T14:13:54.550842Z"
        },
        "trusted": true,
        "id": "UcGb0sUrhRzg",
        "outputId": "3ba33b28-3b4e-4fb0-ac77-39860e773d4a"
      },
      "outputs": [
        {
          "name": "stdout",
          "output_type": "stream",
          "text": [
            "Using device: cuda\n"
          ]
        }
      ],
      "source": [
        "import torch\n",
        "\n",
        "\n",
        "# Set device for training\n",
        "device = torch.device(\"cuda\" if torch.cuda.is_available() else \"cpu\")\n",
        "print(f\"Using device: {device}\")\n",
        "\n",
        "\n"
      ]
    },
    {
      "cell_type": "markdown",
      "metadata": {
        "id": "CRdSxyNPhRzg"
      },
      "source": [
        "## Train model\n",
        "\n",
        "\n",
        "Next, we can leverage the Hugging Face [Trainer](https://huggingface.co/docs/transformers/main_classes/trainer) class to train the model based on the direct forecasting strategy. We first define the [TrainingArguments](https://huggingface.co/docs/transformers/main_classes/trainer#transformers.TrainingArguments) which lists various hyperparameters for training such as the number of epochs, learning rate and so on."
      ]
    },
    {
      "cell_type": "code",
      "execution_count": null,
      "metadata": {
        "execution": {
          "iopub.execute_input": "2024-10-26T14:13:54.589091Z",
          "iopub.status.busy": "2024-10-26T14:13:54.588748Z",
          "iopub.status.idle": "2024-10-26T15:34:35.900432Z",
          "shell.execute_reply": "2024-10-26T15:34:35.899564Z",
          "shell.execute_reply.started": "2024-10-26T14:13:54.589032Z"
        },
        "trusted": true,
        "id": "RnAwbqsQhRzg",
        "outputId": "af324dab-dec9-41c7-fb84-c2acbfd0af20",
        "colab": {
          "referenced_widgets": [
            "e45e90a88b984a2a8082604724f9bcad"
          ]
        }
      },
      "outputs": [
        {
          "name": "stderr",
          "output_type": "stream",
          "text": [
            "\u001b[34m\u001b[1mwandb\u001b[0m: Using wandb-core as the SDK backend. Please refer to https://wandb.me/wandb-core for more information.\n",
            "\u001b[34m\u001b[1mwandb\u001b[0m: Logging into wandb.ai. (Learn how to deploy a W&B server locally: https://wandb.me/wandb-server)\n",
            "\u001b[34m\u001b[1mwandb\u001b[0m: You can find your API key in your browser here: https://wandb.ai/authorize\n",
            "\u001b[34m\u001b[1mwandb\u001b[0m: Paste an API key from your profile and hit enter, or press ctrl+c to quit:"
          ]
        },
        {
          "name": "stdout",
          "output_type": "stream",
          "text": [
            "  ········································\n"
          ]
        },
        {
          "name": "stderr",
          "output_type": "stream",
          "text": [
            "\u001b[34m\u001b[1mwandb\u001b[0m: Appending key for api.wandb.ai to your netrc file: /root/.netrc\n"
          ]
        },
        {
          "data": {
            "application/vnd.jupyter.widget-view+json": {
              "model_id": "e45e90a88b984a2a8082604724f9bcad",
              "version_major": 2,
              "version_minor": 0
            },
            "text/plain": [
              "VBox(children=(Label(value='Waiting for wandb.init()...\\r'), FloatProgress(value=0.01111292588888912, max=1.0)…"
            ]
          },
          "metadata": {},
          "output_type": "display_data"
        },
        {
          "data": {
            "text/html": [
              "Tracking run with wandb version 0.18.3"
            ],
            "text/plain": [
              "<IPython.core.display.HTML object>"
            ]
          },
          "metadata": {},
          "output_type": "display_data"
        },
        {
          "data": {
            "text/html": [
              "Run data is saved locally in <code>/kaggle/working/wandb/run-20241026_141413-xi2jnawy</code>"
            ],
            "text/plain": [
              "<IPython.core.display.HTML object>"
            ]
          },
          "metadata": {},
          "output_type": "display_data"
        },
        {
          "data": {
            "text/html": [
              "Syncing run <strong><a href='https://wandb.ai/lacomaofficial-max-planck-society/huggingface/runs/xi2jnawy' target=\"_blank\">my_experiment_run</a></strong> to <a href='https://wandb.ai/lacomaofficial-max-planck-society/huggingface' target=\"_blank\">Weights & Biases</a> (<a href='https://wandb.me/run' target=\"_blank\">docs</a>)<br/>"
            ],
            "text/plain": [
              "<IPython.core.display.HTML object>"
            ]
          },
          "metadata": {},
          "output_type": "display_data"
        },
        {
          "data": {
            "text/html": [
              " View project at <a href='https://wandb.ai/lacomaofficial-max-planck-society/huggingface' target=\"_blank\">https://wandb.ai/lacomaofficial-max-planck-society/huggingface</a>"
            ],
            "text/plain": [
              "<IPython.core.display.HTML object>"
            ]
          },
          "metadata": {},
          "output_type": "display_data"
        },
        {
          "data": {
            "text/html": [
              " View run at <a href='https://wandb.ai/lacomaofficial-max-planck-society/huggingface/runs/xi2jnawy' target=\"_blank\">https://wandb.ai/lacomaofficial-max-planck-society/huggingface/runs/xi2jnawy</a>"
            ],
            "text/plain": [
              "<IPython.core.display.HTML object>"
            ]
          },
          "metadata": {},
          "output_type": "display_data"
        },
        {
          "data": {
            "text/html": [
              "\n",
              "    <div>\n",
              "      \n",
              "      <progress value='100' max='100' style='width:300px; height:20px; vertical-align: middle;'></progress>\n",
              "      [100/100 1:19:44, Epoch 100/100]\n",
              "    </div>\n",
              "    <table border=\"1\" class=\"dataframe\">\n",
              "  <thead>\n",
              " <tr style=\"text-align: left;\">\n",
              "      <th>Epoch</th>\n",
              "      <th>Training Loss</th>\n",
              "      <th>Validation Loss</th>\n",
              "    </tr>\n",
              "  </thead>\n",
              "  <tbody>\n",
              "    <tr>\n",
              "      <td>1</td>\n",
              "      <td>2.671900</td>\n",
              "      <td>37.988655</td>\n",
              "    </tr>\n",
              "    <tr>\n",
              "      <td>2</td>\n",
              "      <td>2.603300</td>\n",
              "      <td>37.628712</td>\n",
              "    </tr>\n",
              "    <tr>\n",
              "      <td>3</td>\n",
              "      <td>2.515500</td>\n",
              "      <td>37.272697</td>\n",
              "    </tr>\n",
              "    <tr>\n",
              "      <td>4</td>\n",
              "      <td>2.409100</td>\n",
              "      <td>36.919823</td>\n",
              "    </tr>\n",
              "    <tr>\n",
              "      <td>5</td>\n",
              "      <td>2.328000</td>\n",
              "      <td>36.567928</td>\n",
              "    </tr>\n",
              "    <tr>\n",
              "      <td>6</td>\n",
              "      <td>2.238700</td>\n",
              "      <td>36.217632</td>\n",
              "    </tr>\n",
              "    <tr>\n",
              "      <td>7</td>\n",
              "      <td>2.147300</td>\n",
              "      <td>35.868706</td>\n",
              "    </tr>\n",
              "    <tr>\n",
              "      <td>8</td>\n",
              "      <td>2.097000</td>\n",
              "      <td>35.520714</td>\n",
              "    </tr>\n",
              "    <tr>\n",
              "      <td>9</td>\n",
              "      <td>1.980800</td>\n",
              "      <td>35.173317</td>\n",
              "    </tr>\n",
              "    <tr>\n",
              "      <td>10</td>\n",
              "      <td>1.920500</td>\n",
              "      <td>34.825230</td>\n",
              "    </tr>\n",
              "    <tr>\n",
              "      <td>11</td>\n",
              "      <td>1.824800</td>\n",
              "      <td>34.476585</td>\n",
              "    </tr>\n",
              "    <tr>\n",
              "      <td>12</td>\n",
              "      <td>1.767900</td>\n",
              "      <td>34.127125</td>\n",
              "    </tr>\n",
              "    <tr>\n",
              "      <td>13</td>\n",
              "      <td>1.721700</td>\n",
              "      <td>33.776150</td>\n",
              "    </tr>\n",
              "    <tr>\n",
              "      <td>14</td>\n",
              "      <td>1.565100</td>\n",
              "      <td>33.422604</td>\n",
              "    </tr>\n",
              "    <tr>\n",
              "      <td>15</td>\n",
              "      <td>1.528000</td>\n",
              "      <td>33.066639</td>\n",
              "    </tr>\n",
              "    <tr>\n",
              "      <td>16</td>\n",
              "      <td>1.467300</td>\n",
              "      <td>32.707222</td>\n",
              "    </tr>\n",
              "    <tr>\n",
              "      <td>17</td>\n",
              "      <td>1.414000</td>\n",
              "      <td>32.343636</td>\n",
              "    </tr>\n",
              "    <tr>\n",
              "      <td>18</td>\n",
              "      <td>1.329400</td>\n",
              "      <td>31.975035</td>\n",
              "    </tr>\n",
              "    <tr>\n",
              "      <td>19</td>\n",
              "      <td>1.252300</td>\n",
              "      <td>31.600010</td>\n",
              "    </tr>\n",
              "    <tr>\n",
              "      <td>20</td>\n",
              "      <td>1.176600</td>\n",
              "      <td>31.218369</td>\n",
              "    </tr>\n",
              "    <tr>\n",
              "      <td>21</td>\n",
              "      <td>1.130400</td>\n",
              "      <td>30.828867</td>\n",
              "    </tr>\n",
              "    <tr>\n",
              "      <td>22</td>\n",
              "      <td>1.082500</td>\n",
              "      <td>30.431414</td>\n",
              "    </tr>\n",
              "    <tr>\n",
              "      <td>23</td>\n",
              "      <td>1.008100</td>\n",
              "      <td>30.025059</td>\n",
              "    </tr>\n",
              "    <tr>\n",
              "      <td>24</td>\n",
              "      <td>0.954800</td>\n",
              "      <td>29.609190</td>\n",
              "    </tr>\n",
              "    <tr>\n",
              "      <td>25</td>\n",
              "      <td>0.841700</td>\n",
              "      <td>29.182480</td>\n",
              "    </tr>\n",
              "    <tr>\n",
              "      <td>26</td>\n",
              "      <td>0.848400</td>\n",
              "      <td>28.744698</td>\n",
              "    </tr>\n",
              "    <tr>\n",
              "      <td>27</td>\n",
              "      <td>0.777000</td>\n",
              "      <td>28.295071</td>\n",
              "    </tr>\n",
              "    <tr>\n",
              "      <td>28</td>\n",
              "      <td>0.719700</td>\n",
              "      <td>27.831896</td>\n",
              "    </tr>\n",
              "    <tr>\n",
              "      <td>29</td>\n",
              "      <td>0.637700</td>\n",
              "      <td>27.354712</td>\n",
              "    </tr>\n",
              "    <tr>\n",
              "      <td>30</td>\n",
              "      <td>0.601700</td>\n",
              "      <td>26.862654</td>\n",
              "    </tr>\n",
              "    <tr>\n",
              "      <td>31</td>\n",
              "      <td>0.556100</td>\n",
              "      <td>26.356871</td>\n",
              "    </tr>\n",
              "    <tr>\n",
              "      <td>32</td>\n",
              "      <td>0.500800</td>\n",
              "      <td>25.837021</td>\n",
              "    </tr>\n",
              "    <tr>\n",
              "      <td>33</td>\n",
              "      <td>0.485900</td>\n",
              "      <td>25.303015</td>\n",
              "    </tr>\n",
              "    <tr>\n",
              "      <td>34</td>\n",
              "      <td>0.402800</td>\n",
              "      <td>24.753988</td>\n",
              "    </tr>\n",
              "    <tr>\n",
              "      <td>35</td>\n",
              "      <td>0.394600</td>\n",
              "      <td>24.190329</td>\n",
              "    </tr>\n",
              "    <tr>\n",
              "      <td>36</td>\n",
              "      <td>0.361300</td>\n",
              "      <td>23.612253</td>\n",
              "    </tr>\n",
              "    <tr>\n",
              "      <td>37</td>\n",
              "      <td>0.305400</td>\n",
              "      <td>23.021379</td>\n",
              "    </tr>\n",
              "    <tr>\n",
              "      <td>38</td>\n",
              "      <td>0.267700</td>\n",
              "      <td>22.418552</td>\n",
              "    </tr>\n",
              "    <tr>\n",
              "      <td>39</td>\n",
              "      <td>0.260300</td>\n",
              "      <td>21.806427</td>\n",
              "    </tr>\n",
              "    <tr>\n",
              "      <td>40</td>\n",
              "      <td>0.208200</td>\n",
              "      <td>21.184669</td>\n",
              "    </tr>\n",
              "    <tr>\n",
              "      <td>41</td>\n",
              "      <td>0.185400</td>\n",
              "      <td>20.554489</td>\n",
              "    </tr>\n",
              "    <tr>\n",
              "      <td>42</td>\n",
              "      <td>0.168100</td>\n",
              "      <td>19.921688</td>\n",
              "    </tr>\n",
              "    <tr>\n",
              "      <td>43</td>\n",
              "      <td>0.125700</td>\n",
              "      <td>19.287794</td>\n",
              "    </tr>\n",
              "    <tr>\n",
              "      <td>44</td>\n",
              "      <td>0.117400</td>\n",
              "      <td>18.657118</td>\n",
              "    </tr>\n",
              "    <tr>\n",
              "      <td>45</td>\n",
              "      <td>0.090100</td>\n",
              "      <td>18.043657</td>\n",
              "    </tr>\n",
              "    <tr>\n",
              "      <td>46</td>\n",
              "      <td>0.087600</td>\n",
              "      <td>17.438175</td>\n",
              "    </tr>\n",
              "    <tr>\n",
              "      <td>47</td>\n",
              "      <td>0.070200</td>\n",
              "      <td>16.849159</td>\n",
              "    </tr>\n",
              "    <tr>\n",
              "      <td>48</td>\n",
              "      <td>0.070400</td>\n",
              "      <td>16.287914</td>\n",
              "    </tr>\n",
              "    <tr>\n",
              "      <td>49</td>\n",
              "      <td>0.062600</td>\n",
              "      <td>15.761991</td>\n",
              "    </tr>\n",
              "    <tr>\n",
              "      <td>50</td>\n",
              "      <td>0.050100</td>\n",
              "      <td>15.278607</td>\n",
              "    </tr>\n",
              "    <tr>\n",
              "      <td>51</td>\n",
              "      <td>0.055900</td>\n",
              "      <td>14.835550</td>\n",
              "    </tr>\n",
              "    <tr>\n",
              "      <td>52</td>\n",
              "      <td>0.042900</td>\n",
              "      <td>14.440145</td>\n",
              "    </tr>\n",
              "    <tr>\n",
              "      <td>53</td>\n",
              "      <td>0.041900</td>\n",
              "      <td>14.107947</td>\n",
              "    </tr>\n",
              "    <tr>\n",
              "      <td>54</td>\n",
              "      <td>0.049800</td>\n",
              "      <td>13.830160</td>\n",
              "    </tr>\n",
              "    <tr>\n",
              "      <td>55</td>\n",
              "      <td>0.052000</td>\n",
              "      <td>13.607305</td>\n",
              "    </tr>\n",
              "    <tr>\n",
              "      <td>56</td>\n",
              "      <td>0.044600</td>\n",
              "      <td>13.432239</td>\n",
              "    </tr>\n",
              "    <tr>\n",
              "      <td>57</td>\n",
              "      <td>0.036900</td>\n",
              "      <td>13.275058</td>\n",
              "    </tr>\n",
              "    <tr>\n",
              "      <td>58</td>\n",
              "      <td>0.040200</td>\n",
              "      <td>13.160452</td>\n",
              "    </tr>\n",
              "    <tr>\n",
              "      <td>59</td>\n",
              "      <td>0.032800</td>\n",
              "      <td>13.077609</td>\n",
              "    </tr>\n",
              "    <tr>\n",
              "      <td>60</td>\n",
              "      <td>0.028300</td>\n",
              "      <td>13.007842</td>\n",
              "    </tr>\n",
              "    <tr>\n",
              "      <td>61</td>\n",
              "      <td>0.034100</td>\n",
              "      <td>12.957952</td>\n",
              "    </tr>\n",
              "    <tr>\n",
              "      <td>62</td>\n",
              "      <td>0.027400</td>\n",
              "      <td>12.924925</td>\n",
              "    </tr>\n",
              "    <tr>\n",
              "      <td>63</td>\n",
              "      <td>0.027100</td>\n",
              "      <td>12.906216</td>\n",
              "    </tr>\n",
              "    <tr>\n",
              "      <td>64</td>\n",
              "      <td>0.027600</td>\n",
              "      <td>12.893543</td>\n",
              "    </tr>\n",
              "    <tr>\n",
              "      <td>65</td>\n",
              "      <td>0.021900</td>\n",
              "      <td>12.866084</td>\n",
              "    </tr>\n",
              "    <tr>\n",
              "      <td>66</td>\n",
              "      <td>0.021300</td>\n",
              "      <td>12.830949</td>\n",
              "    </tr>\n",
              "    <tr>\n",
              "      <td>67</td>\n",
              "      <td>0.019600</td>\n",
              "      <td>12.797109</td>\n",
              "    </tr>\n",
              "    <tr>\n",
              "      <td>68</td>\n",
              "      <td>0.023600</td>\n",
              "      <td>12.754196</td>\n",
              "    </tr>\n",
              "    <tr>\n",
              "      <td>69</td>\n",
              "      <td>0.025500</td>\n",
              "      <td>12.695283</td>\n",
              "    </tr>\n",
              "    <tr>\n",
              "      <td>70</td>\n",
              "      <td>0.026700</td>\n",
              "      <td>12.619553</td>\n",
              "    </tr>\n",
              "    <tr>\n",
              "      <td>71</td>\n",
              "      <td>0.024400</td>\n",
              "      <td>12.539421</td>\n",
              "    </tr>\n",
              "    <tr>\n",
              "      <td>72</td>\n",
              "      <td>0.019000</td>\n",
              "      <td>12.456505</td>\n",
              "    </tr>\n",
              "    <tr>\n",
              "      <td>73</td>\n",
              "      <td>0.020200</td>\n",
              "      <td>12.375998</td>\n",
              "    </tr>\n",
              "    <tr>\n",
              "      <td>74</td>\n",
              "      <td>0.031200</td>\n",
              "      <td>12.294534</td>\n",
              "    </tr>\n",
              "    <tr>\n",
              "      <td>75</td>\n",
              "      <td>0.022200</td>\n",
              "      <td>12.213491</td>\n",
              "    </tr>\n",
              "    <tr>\n",
              "      <td>76</td>\n",
              "      <td>0.026200</td>\n",
              "      <td>12.126386</td>\n",
              "    </tr>\n",
              "    <tr>\n",
              "      <td>77</td>\n",
              "      <td>0.028300</td>\n",
              "      <td>12.037671</td>\n",
              "    </tr>\n",
              "    <tr>\n",
              "      <td>78</td>\n",
              "      <td>0.025900</td>\n",
              "      <td>11.945877</td>\n",
              "    </tr>\n",
              "    <tr>\n",
              "      <td>79</td>\n",
              "      <td>0.021400</td>\n",
              "      <td>11.861390</td>\n",
              "    </tr>\n",
              "    <tr>\n",
              "      <td>80</td>\n",
              "      <td>0.025900</td>\n",
              "      <td>11.781898</td>\n",
              "    </tr>\n",
              "    <tr>\n",
              "      <td>81</td>\n",
              "      <td>0.025200</td>\n",
              "      <td>11.696884</td>\n",
              "    </tr>\n",
              "    <tr>\n",
              "      <td>82</td>\n",
              "      <td>0.024600</td>\n",
              "      <td>11.617051</td>\n",
              "    </tr>\n",
              "    <tr>\n",
              "      <td>83</td>\n",
              "      <td>0.025700</td>\n",
              "      <td>11.541018</td>\n",
              "    </tr>\n",
              "    <tr>\n",
              "      <td>84</td>\n",
              "      <td>0.021100</td>\n",
              "      <td>11.466112</td>\n",
              "    </tr>\n",
              "    <tr>\n",
              "      <td>85</td>\n",
              "      <td>0.025100</td>\n",
              "      <td>11.395423</td>\n",
              "    </tr>\n",
              "    <tr>\n",
              "      <td>86</td>\n",
              "      <td>0.022500</td>\n",
              "      <td>11.328050</td>\n",
              "    </tr>\n",
              "    <tr>\n",
              "      <td>87</td>\n",
              "      <td>0.021900</td>\n",
              "      <td>11.269709</td>\n",
              "    </tr>\n",
              "    <tr>\n",
              "      <td>88</td>\n",
              "      <td>0.018300</td>\n",
              "      <td>11.216878</td>\n",
              "    </tr>\n",
              "    <tr>\n",
              "      <td>89</td>\n",
              "      <td>0.026700</td>\n",
              "      <td>11.171104</td>\n",
              "    </tr>\n",
              "    <tr>\n",
              "      <td>90</td>\n",
              "      <td>0.022300</td>\n",
              "      <td>11.133024</td>\n",
              "    </tr>\n",
              "    <tr>\n",
              "      <td>91</td>\n",
              "      <td>0.016900</td>\n",
              "      <td>11.103063</td>\n",
              "    </tr>\n",
              "    <tr>\n",
              "      <td>92</td>\n",
              "      <td>0.022400</td>\n",
              "      <td>11.075308</td>\n",
              "    </tr>\n",
              "    <tr>\n",
              "      <td>93</td>\n",
              "      <td>0.022500</td>\n",
              "      <td>11.052148</td>\n",
              "    </tr>\n",
              "    <tr>\n",
              "      <td>94</td>\n",
              "      <td>0.027500</td>\n",
              "      <td>11.031239</td>\n",
              "    </tr>\n",
              "    <tr>\n",
              "      <td>95</td>\n",
              "      <td>0.020800</td>\n",
              "      <td>11.014219</td>\n",
              "    </tr>\n",
              "    <tr>\n",
              "      <td>96</td>\n",
              "      <td>0.026300</td>\n",
              "      <td>10.998653</td>\n",
              "    </tr>\n",
              "    <tr>\n",
              "      <td>97</td>\n",
              "      <td>0.021200</td>\n",
              "      <td>10.984463</td>\n",
              "    </tr>\n",
              "    <tr>\n",
              "      <td>98</td>\n",
              "      <td>0.025400</td>\n",
              "      <td>10.972935</td>\n",
              "    </tr>\n",
              "    <tr>\n",
              "      <td>99</td>\n",
              "      <td>0.023300</td>\n",
              "      <td>10.962544</td>\n",
              "    </tr>\n",
              "    <tr>\n",
              "      <td>100</td>\n",
              "      <td>0.021700</td>\n",
              "      <td>10.953854</td>\n",
              "    </tr>\n",
              "  </tbody>\n",
              "</table><p>"
            ],
            "text/plain": [
              "<IPython.core.display.HTML object>"
            ]
          },
          "metadata": {},
          "output_type": "display_data"
        },
        {
          "data": {
            "text/plain": [
              "TrainOutput(global_step=100, training_loss=0.5271851750276982, metrics={'train_runtime': 4839.4353, 'train_samples_per_second': 0.021, 'train_steps_per_second': 0.021, 'total_flos': 647113113600.0, 'train_loss': 0.5271851750276982, 'epoch': 100.0})"
            ]
          },
          "execution_count": 16,
          "metadata": {},
          "output_type": "execute_result"
        }
      ],
      "source": [
        "import os\n",
        "import multiprocessing as mp\n",
        "from transformers import Trainer, TrainingArguments\n",
        "from transformers import EarlyStoppingCallback\n",
        "\n",
        "mp.set_start_method('spawn', force=True)\n",
        "\n",
        "training_args = TrainingArguments(\n",
        "    output_dir=\"./checkpoint/patchtst/electricity/pretrain/output/\",\n",
        "    overwrite_output_dir=True,\n",
        "    num_train_epochs=100,\n",
        "    do_eval=True,\n",
        "    eval_strategy=\"epoch\",\n",
        "    per_device_train_batch_size=batch_size,\n",
        "    per_device_eval_batch_size=batch_size,\n",
        "    dataloader_num_workers=4,\n",
        "    save_strategy=\"epoch\",\n",
        "    logging_strategy=\"epoch\",\n",
        "    save_total_limit=3,\n",
        "    logging_dir=\"./checkpoint/patchtst/electricity/pretrain/logs/\",\n",
        "    load_best_model_at_end=True,\n",
        "    metric_for_best_model=\"eval_loss\",\n",
        "    greater_is_better=False,\n",
        "    label_names=[\"future_values\"],\n",
        "    run_name=\"my_experiment_run\",\n",
        "    log_level=\"error\"  # Set verbosity to error level\n",
        ")\n",
        "\n",
        "early_stopping_callback = EarlyStoppingCallback(\n",
        "    early_stopping_patience=10,\n",
        "    early_stopping_threshold=0.0001,\n",
        ")\n",
        "\n",
        "\n",
        "\n",
        "trainer = Trainer(\n",
        "    model=model.to(device),\n",
        "    args=training_args,\n",
        "    train_dataset=train_dataset,\n",
        "    eval_dataset=valid_dataset,\n",
        "    callbacks=[early_stopping_callback],\n",
        "    #compute_metrics=compute_metrics,\n",
        ")\n",
        "\n",
        "trainer.train()\n"
      ]
    },
    {
      "cell_type": "markdown",
      "metadata": {
        "id": "WAZg-nFhhRzg"
      },
      "source": [
        "## Evaluate the model\n",
        "\n",
        "\n",
        "\n",
        "Next, we can leverage `trainer.evaluate()` to calculate test metrics. While this is not the target metric to judge in this task, it provides a reasonable check that the pretrained model has trained properly.\n",
        "\n",
        "Note that the training and evaluation loss for `PatchTST` is the Mean Squared Error (MSE) loss. Hence, we do not separately compute the MSE metric in any of the following evaluation experiments."
      ]
    },
    {
      "cell_type": "code",
      "execution_count": null,
      "metadata": {
        "execution": {
          "iopub.execute_input": "2024-10-26T15:34:35.901919Z",
          "iopub.status.busy": "2024-10-26T15:34:35.901625Z",
          "iopub.status.idle": "2024-10-26T15:34:50.104514Z",
          "shell.execute_reply": "2024-10-26T15:34:50.103648Z",
          "shell.execute_reply.started": "2024-10-26T15:34:35.901887Z"
        },
        "trusted": true,
        "id": "6jZJz6-ihRzh",
        "outputId": "26357a4e-86cb-4e6b-993c-dba7b13d8747"
      },
      "outputs": [
        {
          "data": {
            "text/html": [
              "\n",
              "    <div>\n",
              "      \n",
              "      <progress value='1' max='1' style='width:300px; height:20px; vertical-align: middle;'></progress>\n",
              "      [1/1 : < :]\n",
              "    </div>\n",
              "    "
            ],
            "text/plain": [
              "<IPython.core.display.HTML object>"
            ]
          },
          "metadata": {},
          "output_type": "display_data"
        },
        {
          "name": "stdout",
          "output_type": "stream",
          "text": [
            "Test result:\n",
            "{'eval_loss': 14.166226387023926, 'eval_runtime': 14.1936, 'eval_samples_per_second': 0.07, 'eval_steps_per_second': 0.07, 'epoch': 100.0}\n"
          ]
        }
      ],
      "source": [
        "results = trainer.evaluate(test_dataset)\n",
        "\n",
        "print(\"Test result:\")\n",
        "\n",
        "print(results)"
      ]
    },
    {
      "cell_type": "markdown",
      "metadata": {
        "id": "AAr0QoxshRzh"
      },
      "source": [
        "## Save model"
      ]
    },
    {
      "cell_type": "code",
      "execution_count": null,
      "metadata": {
        "execution": {
          "iopub.execute_input": "2024-10-26T15:34:50.106001Z",
          "iopub.status.busy": "2024-10-26T15:34:50.105702Z",
          "iopub.status.idle": "2024-10-26T15:34:50.127460Z",
          "shell.execute_reply": "2024-10-26T15:34:50.126606Z",
          "shell.execute_reply.started": "2024-10-26T15:34:50.105968Z"
        },
        "trusted": true,
        "id": "NPNfwXvMhRzh"
      },
      "outputs": [],
      "source": [
        "save_dir = \"kaggle/working//model/pretrain/\" # Path to save the model\n",
        "\n",
        "os.makedirs(save_dir, exist_ok=True)\n",
        "\n",
        "trainer.save_model(save_dir)"
      ]
    },
    {
      "cell_type": "markdown",
      "metadata": {
        "id": "nkS4-L68hRzh"
      },
      "source": [
        "## Visualize the evaluation metrics"
      ]
    },
    {
      "cell_type": "code",
      "execution_count": null,
      "metadata": {
        "execution": {
          "iopub.execute_input": "2024-10-26T15:34:50.129473Z",
          "iopub.status.busy": "2024-10-26T15:34:50.128694Z",
          "iopub.status.idle": "2024-10-26T15:34:50.661497Z",
          "shell.execute_reply": "2024-10-26T15:34:50.660636Z",
          "shell.execute_reply.started": "2024-10-26T15:34:50.129429Z"
        },
        "trusted": true,
        "id": "SHiN3aq1hRzh",
        "outputId": "8f87daf6-92d0-40a8-e688-6c9c9481bc22"
      },
      "outputs": [
        {
          "data": {
            "image/png": "[encoded data removed]",
            "text/plain": [
              "<Figure size 1000x500 with 1 Axes>"
            ]
          },
          "metadata": {},
          "output_type": "display_data"
        }
      ],
      "source": [
        "import matplotlib.pyplot as plt\n",
        "import seaborn as sns\n",
        "\n",
        "# Set the aesthetic style of the plots\n",
        "sns.set_style(\"whitegrid\")\n",
        "\n",
        "def plot_evaluation_metrics(results):\n",
        "    metrics = {key: value for key, value in results.items() if 'eval_' in key}\n",
        "\n",
        "    # Use pastel colors\n",
        "    pastel_colors = sns.color_palette(\"pastel\", len(metrics))\n",
        "\n",
        "    plt.figure(figsize=(10, 5))\n",
        "    plt.bar(metrics.keys(), metrics.values(), color=pastel_colors)\n",
        "    plt.title('Evaluation Metrics', fontsize=16)\n",
        "    plt.xlabel('Metrics', fontsize=12)\n",
        "    plt.ylabel('Values', fontsize=12)\n",
        "    plt.xticks(rotation=45)\n",
        "    plt.grid(axis='y')\n",
        "    plt.show()\n",
        "\n",
        "# Call the plotting function\n",
        "plot_evaluation_metrics(results)\n"
      ]
    }
  ],
  "metadata": {
    "kaggle": {
      "accelerator": "gpu",
      "dataSources": [
        {
          "datasetId": 5687982,
          "sourceId": 9376959,
          "sourceType": "datasetVersion"
        },
        {
          "datasetId": 5920652,
          "sourceId": 9685457,
          "sourceType": "datasetVersion"
        }
      ],
      "isGpuEnabled": true,
      "isInternetEnabled": true,
      "language": "python",
      "sourceType": "notebook"
    },
    "kernelspec": {
      "display_name": "Python 3",
      "name": "python3"
    },
    "language_info": {
      "codemirror_mode": {
        "name": "ipython",
        "version": 3
      },
      "file_extension": ".py",
      "mimetype": "text/x-python",
      "name": "python",
      "nbconvert_exporter": "python",
      "pygments_lexer": "ipython3",
      "version": "3.10.14"
    },
    "colab": {
      "provenance": [],
      "gpuType": "T4"
    },
    "accelerator": "GPU"
  },
  "nbformat": 4,
  "nbformat_minor": 0
}